{
 "cells": [
  {
   "cell_type": "markdown",
   "source": [
    "# handcalcs\n",
    "[https://pypi.org/project/handcalcs/](https://pypi.org/project/handcalcs/)"
   ],
   "metadata": {
    "collapsed": false
   }
  },
  {
   "cell_type": "markdown",
   "source": [
    "# pip\n",
    "```\n",
    "pip install handcalcs\n",
    "pip install scipy\n",
    "pip install sympy\n",
    "```"
   ],
   "metadata": {
    "collapsed": false
   }
  },
  {
   "cell_type": "code",
   "execution_count": 1,
   "outputs": [],
   "source": [
    "import handcalcs.render"
   ],
   "metadata": {
    "collapsed": false
   }
  },
  {
   "cell_type": "code",
   "execution_count": 2,
   "outputs": [
    {
     "data": {
      "text/plain": "<IPython.core.display.Latex object>",
      "text/latex": "\\[\n\\begin{aligned}\na &= 2 \\; \n\\\\[10pt]\nb &= 3 \\; \n\\\\[10pt]\nc &= 2 \\cdot a + \\frac{ b }{ 3 }  = 2 \\cdot 2 + \\frac{ 3 }{ 3 } &= 5.000  \n\\end{aligned}\n\\]"
     },
     "metadata": {},
     "output_type": "display_data"
    }
   ],
   "source": [
    "%%render\n",
    "a = 2\n",
    "b = 3\n",
    "c = 2 * a + b / 3"
   ],
   "metadata": {
    "collapsed": false
   }
  },
  {
   "cell_type": "code",
   "execution_count": 3,
   "outputs": [],
   "source": [
    "from math import sqrt, pi"
   ],
   "metadata": {
    "collapsed": false
   }
  },
  {
   "cell_type": "code",
   "execution_count": 4,
   "outputs": [
    {
     "data": {
      "text/plain": "<IPython.core.display.Latex object>",
      "text/latex": "\\[\n\\begin{aligned}\na &= \\frac{ 2 }{ 3 } \\cdot \\sqrt { \\pi }  = \\frac{ 2 }{ 3 } \\cdot \\sqrt { 3.142 } &= 1.182  \n\\end{aligned}\n\\]"
     },
     "metadata": {},
     "output_type": "display_data"
    }
   ],
   "source": [
    "%%render\n",
    "a = 2 / 3 * sqrt(pi)"
   ],
   "metadata": {
    "collapsed": false
   }
  },
  {
   "cell_type": "code",
   "execution_count": 5,
   "outputs": [
    {
     "name": "stdout",
     "output_type": "stream",
     "text": [
      "\\[\n",
      "\\begin{aligned}\n",
      "a &= \\frac{ 2 }{ 3 } \\cdot \\sqrt { \\pi }  = \\frac{ 2 }{ 3 } \\cdot \\sqrt { 3.142 } &= 1.182  \n",
      "\\end{aligned}\n",
      "\\]\n"
     ]
    }
   ],
   "source": [
    "%%tex\n",
    "a = 2 / 3 * sqrt(pi)"
   ],
   "metadata": {
    "collapsed": false
   }
  },
  {
   "cell_type": "code",
   "execution_count": 6,
   "outputs": [
    {
     "data": {
      "text/plain": "<IPython.core.display.Latex object>",
      "text/latex": "\\[\n\\begin{aligned}\na &= 2 \\; \n\\\\[10pt]\nb &= 3 \\; \n\\\\[10pt]\nc &= 2 \\cdot a + \\frac{ b }{ 3 }  = 2 \\cdot 2 + \\frac{ 3 }{ 3 } &= 5.000  \n\\end{aligned}\n\\]"
     },
     "metadata": {},
     "output_type": "display_data"
    }
   ],
   "source": [
    "%%render\n",
    "a = 2\n",
    "b = 3\n",
    "c = 2 * a + b / 3"
   ],
   "metadata": {
    "collapsed": false
   }
  },
  {
   "cell_type": "code",
   "execution_count": 7,
   "outputs": [],
   "source": [
    "from handcalcs.decorator import handcalc"
   ],
   "metadata": {
    "collapsed": false
   }
  },
  {
   "cell_type": "code",
   "execution_count": 10,
   "outputs": [],
   "source": [
    "#@handcalc([override: str = \"\", precision: int = 3, left: str = \"\", right: str = \"\", jupyter_display: bool = False])"
   ],
   "metadata": {
    "collapsed": false
   }
  },
  {
   "cell_type": "code",
   "execution_count": 17,
   "outputs": [],
   "source": [
    "@handcalc(jupyter_display=True,precision=1)\n",
    "def mycalc(x: int, y: int):\n",
    "    y_1 = 3 * x + 3 * y\n",
    "    y_2 = 2 * x + 7 * y\n",
    "    P = 4/6"
   ],
   "metadata": {
    "collapsed": false
   }
  },
  {
   "cell_type": "code",
   "execution_count": 18,
   "outputs": [
    {
     "data": {
      "text/plain": "<IPython.core.display.Latex object>",
      "text/latex": "\\[\n\\begin{aligned}\ny_{1} &= 3 \\cdot x + 3 \\cdot y  = 3 \\cdot 1 + 3 \\cdot 1 &= 6  \n\\\\[10pt]\ny_{2} &= 2 \\cdot x + 7 \\cdot y  = 2 \\cdot 1 + 7 \\cdot 1 &= 9  \n\\\\[10pt]\nP &= \\frac{ 4 }{ 6 } &= 0.7  \n\\end{aligned}\n\\]"
     },
     "metadata": {},
     "output_type": "display_data"
    }
   ],
   "source": [
    "v = mycalc(1, 1)"
   ],
   "metadata": {
    "collapsed": false
   }
  },
  {
   "cell_type": "code",
   "execution_count": 28,
   "outputs": [],
   "source": [
    "@handcalc(precision=1)\n",
    "def mycalc(x: int, y: int):\n",
    "    y_1 = 3 * x + 3 * y\n",
    "    y_2 = 2 * x + 7 * y\n",
    "    P = 4/6"
   ],
   "metadata": {
    "collapsed": false
   }
  },
  {
   "cell_type": "code",
   "execution_count": 29,
   "outputs": [
    {
     "data": {
      "text/plain": "('\\n\\\\begin{aligned}\\ny_{1} &= 3 \\\\cdot x + 3 \\\\cdot y  = 3 \\\\cdot 1 + 3 \\\\cdot 1 &= 6  \\n\\\\\\\\[10pt]\\ny_{2} &= 2 \\\\cdot x + 7 \\\\cdot y  = 2 \\\\cdot 1 + 7 \\\\cdot 1 &= 9  \\n\\\\\\\\[10pt]\\nP &= \\\\frac{ 4 }{ 6 } &= 0.7  \\n\\\\end{aligned}\\n',\n None)"
     },
     "execution_count": 29,
     "metadata": {},
     "output_type": "execute_result"
    }
   ],
   "source": [
    "mycalc(1, 1)"
   ],
   "metadata": {
    "collapsed": false
   }
  },
  {
   "cell_type": "markdown",
   "source": [
    "$$\n",
    "\\n\\\\begin{aligned}\\ny_{1} &= 3 \\\\cdot x + 3 \\\\cdot y  = 3 \\\\cdot 1 + 3 \\\\cdot 1 &= 6  \\n\\\\\\\\[10pt]\\ny_{2} &= 2 \\\\cdot x + 7 \\\\cdot y  = 2 \\\\cdot 1 + 7 \\\\cdot 1 &= 9  \\n\\\\\\\\[10pt]\\nP &= \\\\frac{ 4 }{ 6 } &= 0.7  \\n\\\\end{aligned}\\n\n",
    "$$"
   ],
   "metadata": {
    "collapsed": false
   }
  },
  {
   "cell_type": "code",
   "execution_count": 14,
   "outputs": [
    {
     "data": {
      "text/plain": "<IPython.core.display.Latex object>",
      "text/latex": "\\[\n\\begin{aligned}\na &= 1 \\; \n &b &= 0.667 \\; \n &c &= 3 \\; \n\\\\[10pt]\n\\end{aligned}\n\\]"
     },
     "metadata": {},
     "output_type": "display_data"
    }
   ],
   "source": [
    "%%render params\n",
    "a = 1\n",
    "b = 2 / 3\n",
    "c = 3"
   ],
   "metadata": {
    "collapsed": false
   }
  },
  {
   "cell_type": "code",
   "execution_count": 15,
   "outputs": [
    {
     "data": {
      "text/plain": "<IPython.core.display.Latex object>",
      "text/latex": "\\[\n\\begin{aligned}\na &= 1 \\; \n\\\\[10pt]\nb &= \\frac{ \\left( - 5 \\right) }{ 3 } &= -1.667  \n\\\\[10pt]\nc &= 3 \\; \n\\end{aligned}\n\\]"
     },
     "metadata": {},
     "output_type": "display_data"
    }
   ],
   "source": [
    "%%render long\n",
    "a = 1\n",
    "b = -5 / 3\n",
    "c = 3"
   ],
   "metadata": {
    "collapsed": false
   }
  },
  {
   "cell_type": "code",
   "execution_count": 16,
   "outputs": [
    {
     "data": {
      "text/plain": "<IPython.core.display.Latex object>",
      "text/latex": "\\[\n\\begin{aligned}\na &= 1 \\; \n &b &= -10.333 \\; \n &c &= 3 \\; \n\\\\[10pt]\n\\end{aligned}\n\\]"
     },
     "metadata": {},
     "output_type": "display_data"
    }
   ],
   "source": [
    "%%render param\n",
    "a = 1\n",
    "b = -31 / 3\n",
    "c = 3"
   ],
   "metadata": {
    "collapsed": false
   }
  },
  {
   "cell_type": "code",
   "execution_count": 17,
   "outputs": [
    {
     "data": {
      "text/plain": "<IPython.core.display.Latex object>",
      "text/latex": "\\[\n\\begin{aligned}\nx_{pos} &= \\left( - b \\right) + \\frac{ \\sqrt { \\left( b \\right) ^{ 2 } - 4 \\cdot a \\cdot c } }{ 2 \\cdot a } \\; \n\\end{aligned}\n\\]"
     },
     "metadata": {},
     "output_type": "display_data"
    }
   ],
   "source": [
    "%%render symbolic\n",
    "x_pos = -b + sqrt(b ** 2 - 4 * a * c) / (2 * a)"
   ],
   "metadata": {
    "collapsed": false
   }
  },
  {
   "cell_type": "code",
   "execution_count": 18,
   "outputs": [
    {
     "data": {
      "text/plain": "<IPython.core.display.Latex object>",
      "text/latex": "\\[\n\\begin{aligned}\nx_{pos} &= 15.201 \\; \n\\end{aligned}\n\\]"
     },
     "metadata": {},
     "output_type": "display_data"
    }
   ],
   "source": [
    "%%render\n",
    "x_pos"
   ],
   "metadata": {
    "collapsed": false
   }
  },
  {
   "cell_type": "code",
   "execution_count": 19,
   "outputs": [
    {
     "data": {
      "text/plain": "<IPython.core.display.Latex object>",
      "text/latex": "\\[\n\\begin{aligned}\nx &= 12 \\; \n\\\\[10pt]\ny &= 2 \\cdot \\frac{ x }{ 5 }  = 2 \\cdot \\frac{ 12 }{ 5 } &= 4.800  \n\\end{aligned}\n\\]"
     },
     "metadata": {},
     "output_type": "display_data"
    }
   ],
   "source": [
    "%%render\n",
    "x = 12\n",
    "y = 2 * x / 5"
   ],
   "metadata": {
    "collapsed": false
   }
  },
  {
   "cell_type": "code",
   "execution_count": 20,
   "outputs": [
    {
     "data": {
      "text/plain": "<IPython.core.display.Latex object>",
      "text/latex": "\\[\n\\begin{aligned}\n&\\text{Since, } x \\leq 24 \\rightarrow \\left( 12 \\leq 24 \\right) :   \\end{aligned}\n\\]\n\\[\n\\begin{aligned}\nb &= 2 \\cdot x \\\\&= 2 \\cdot 12 \\\\&= 24  \\\\[10pt]\n\\end{aligned}\n\\]"
     },
     "metadata": {},
     "output_type": "display_data"
    }
   ],
   "source": [
    "%%render long\n",
    "if x <= 24:b = 2*x\n",
    "elif x > 24:b = y"
   ],
   "metadata": {
    "collapsed": false
   }
  },
  {
   "cell_type": "code",
   "execution_count": 21,
   "outputs": [],
   "source": [
    "import handcalcs.render\n",
    "from scipy.integrate import quad"
   ],
   "metadata": {
    "collapsed": false
   }
  },
  {
   "cell_type": "code",
   "execution_count": 22,
   "outputs": [],
   "source": [
    "def f(x):\n",
    "    return x**3/2 * 5*x**2 + 3*x"
   ],
   "metadata": {
    "collapsed": false
   }
  },
  {
   "cell_type": "code",
   "execution_count": 23,
   "outputs": [
    {
     "data": {
      "text/plain": "<IPython.core.display.Latex object>",
      "text/latex": "\\[\n\\begin{aligned}\na &= 2 \\; \n\\\\[10pt]\nb &= 6 \\; \n\\\\[10pt]\nz &= \\int_{ a } ^ { b } \\frac{ \\left( x \\right) ^{ 3 } }{ 2 } \\cdot 5 \\cdot \\left( x \\right) ^{ 2 } + 3 \\cdot x \\; dx \\\\&= \\int_{ 2 } ^ { 6 } \\frac{ \\left( 12 \\right) ^{ 3 } }{ 2 } \\cdot 5 \\cdot \\left( 12 \\right) ^{ 2 } + 3 \\cdot 12 \\; dx \\\\&= [19461.333,\\ 0.000]  \\\\[10pt]\n\\end{aligned}\n\\]"
     },
     "metadata": {},
     "output_type": "display_data"
    }
   ],
   "source": [
    "%%render long\n",
    "a = 2\n",
    "b = 6\n",
    "z = quad(f, a, b)"
   ],
   "metadata": {
    "collapsed": false
   }
  },
  {
   "cell_type": "code",
   "execution_count": 24,
   "outputs": [
    {
     "data": {
      "text/plain": "<IPython.core.display.Latex object>",
      "text/latex": "\\[\n\\begin{aligned}\nb_{x_{3_{4_{5}}}} &= 3 \\; \n\\end{aligned}\n\\]"
     },
     "metadata": {},
     "output_type": "display_data"
    }
   ],
   "source": [
    "%%render\n",
    "b_x_3_4_5=3"
   ],
   "metadata": {
    "collapsed": false
   }
  },
  {
   "cell_type": "code",
   "execution_count": 25,
   "outputs": [],
   "source": [
    "from math import sqrt,atan,radians,sin"
   ],
   "metadata": {
    "collapsed": false
   }
  },
  {
   "cell_type": "code",
   "execution_count": 26,
   "outputs": [
    {
     "data": {
      "text/plain": "<IPython.core.display.Latex object>",
      "text/latex": "\\[\n\\begin{aligned}\na &= 2 \\; \n &b &= 32 \\; \n &c &= 24 \\; \n\\\\[10pt]\n\\end{aligned}\n\\]"
     },
     "metadata": {},
     "output_type": "display_data"
    }
   ],
   "source": [
    "%%render params\n",
    "a = 2\n",
    "b = 32\n",
    "c = 24"
   ],
   "metadata": {
    "collapsed": false
   }
  },
  {
   "cell_type": "code",
   "execution_count": 27,
   "outputs": [
    {
     "data": {
      "text/plain": "<IPython.core.display.Latex object>",
      "text/latex": "\\[\n\\begin{aligned}\nd &= \\Sigma \\left( a ,\\  b ,\\  c \\right)  = \\Sigma \\left( 2 ,\\  32 ,\\  24 \\right) &= 0.530  \n\\\\[10pt]\n\\alpha &= \\arctan \\left( \\frac{ a }{ b } \\right)  = \\arctan \\left( \\frac{ 2 }{ 32 } \\right) &= 0.062  \n\\\\[10pt]\nk &= \\sqrt { a + \\frac{ b }{ c } \\cdot \\frac{1} { d } }  = \\sqrt { 2 + \\frac{ 32 }{ 24 } \\cdot \\frac{1} { 0.530 } } &= 1.422  \n\\\\[10pt]\nd &= \\sin { \\left( \\operatorname{radians} b \\right) }  = \\sin { \\left( \\operatorname{radians} 32 \\right) } &= 0.530  \n\\end{aligned}\n\\]"
     },
     "metadata": {},
     "output_type": "display_data"
    }
   ],
   "source": [
    "%%render\n",
    "d = sum((a, b, c))\n",
    "alpha = atan(a / b)\n",
    "k = sqrt(a + b / c / d)\n",
    "d = sin(radians(b))"
   ],
   "metadata": {
    "collapsed": false
   }
  },
  {
   "cell_type": "code",
   "execution_count": 28,
   "outputs": [
    {
     "data": {
      "text/plain": "<IPython.core.display.Latex object>",
      "text/latex": "\\[\n\\begin{aligned}\na &= 0.001 \\; \n\\\\[10pt]\nb &= 234 \\; \n\\end{aligned}\n\\]"
     },
     "metadata": {},
     "output_type": "display_data"
    }
   ],
   "source": [
    "%%render\n",
    "a = 1e-3\n",
    "b = 234"
   ],
   "metadata": {
    "collapsed": false
   }
  },
  {
   "cell_type": "code",
   "execution_count": 29,
   "outputs": [
    {
     "data": {
      "text/plain": "<IPython.core.display.Latex object>",
      "text/latex": "\\[\n\\begin{aligned}\nd'_{c} &= a \\cdot \\frac{ b }{ 2 }  = 0.001 \\cdot \\frac{ 234 }{ 2 } &= 0.117  \n\\\\[10pt]\nf'''_{k} &= \\left( d'_{c} \\right) ^{ 2 }  = \\left( 0.117 \\right) ^{ 2 } &= 0.014  \n\\end{aligned}\n\\]"
     },
     "metadata": {},
     "output_type": "display_data"
    }
   ],
   "source": [
    "%%render\n",
    "d_prime_c = a * b / 2\n",
    "f_prime_prime_prime_k = d_prime_c ** 2"
   ],
   "metadata": {
    "collapsed": false
   }
  },
  {
   "cell_type": "code",
   "execution_count": 30,
   "outputs": [],
   "source": [
    "import sympy as sp"
   ],
   "metadata": {
    "collapsed": false
   }
  },
  {
   "cell_type": "code",
   "execution_count": 31,
   "outputs": [],
   "source": [
    "a,b,c=sp.symbols(\"a b c\")"
   ],
   "metadata": {
    "collapsed": false
   }
  },
  {
   "cell_type": "code",
   "execution_count": 32,
   "outputs": [
    {
     "data": {
      "text/plain": "a**3/3 + a**2*b/2",
      "text/latex": "$\\displaystyle \\frac{a^{3}}{3} + \\frac{a^{2} b}{2}$"
     },
     "execution_count": 32,
     "metadata": {},
     "output_type": "execute_result"
    }
   ],
   "source": [
    "d = a ** 2 + b * a\n",
    "f = sp.integrate(d, a)\n",
    "f"
   ],
   "metadata": {
    "collapsed": false
   }
  },
  {
   "cell_type": "code",
   "execution_count": 33,
   "outputs": [
    {
     "data": {
      "text/plain": "<IPython.core.display.Latex object>",
      "text/latex": "\\[\n\\begin{aligned}\na &= 5 \\; \n\\\\[10pt]\nb &= 10 \\; \n\\\\[10pt]\nx &= \\frac{ \\left( a \\right) ^{ 3 } }{ 3 } + \\left( a \\right) ^{ 2 } \\cdot \\frac{ b }{ 2 }  = \\frac{ \\left( 5 \\right) ^{ 3 } }{ 3 } + \\left( 5 \\right) ^{ 2 } \\cdot \\frac{ 10 }{ 2 } &= 166.667  \n\\end{aligned}\n\\]"
     },
     "metadata": {},
     "output_type": "display_data"
    }
   ],
   "source": [
    "%%render sympy\n",
    "a = 5\n",
    "b = 10\n",
    "x = f"
   ],
   "metadata": {
    "collapsed": false
   }
  },
  {
   "cell_type": "code",
   "execution_count": 35,
   "outputs": [],
   "source": [
    "import forallpeople\n",
    "\n",
    "forallpeople.environment('structural', top_level=True)"
   ],
   "metadata": {
    "collapsed": false
   }
  },
  {
   "cell_type": "code",
   "execution_count": 36,
   "outputs": [
    {
     "data": {
      "text/plain": "<IPython.core.display.Latex object>",
      "text/latex": "\\[\n\\begin{aligned}\nZ_{x} &= 900.000\\ \\mathrm{m} \\; \n &F_{y} &= 400.000\\ \\mathrm{MPa} \\; \n &\\phi &= 0.900 \\; \n\\\\[10pt]\n\\end{aligned}\n\\]"
     },
     "metadata": {},
     "output_type": "display_data"
    }
   ],
   "source": [
    "%%render params\n",
    "Z_x = (300e3 * mm * 3)\n",
    "F_y = (400 * MPa)\n",
    "phi = 0.9"
   ],
   "metadata": {
    "collapsed": false
   }
  },
  {
   "cell_type": "code",
   "execution_count": 37,
   "outputs": [
    {
     "data": {
      "text/plain": "<IPython.core.display.Latex object>",
      "text/latex": "\\[\n\\begin{aligned}\nM_{r} &= \\phi \\cdot Z_{x} \\cdot F_{y}  = 0.900 \\cdot 900.000\\ \\mathrm{m} \\cdot 400.000\\ \\mathrm{MPa} &= 324.000\\ \\mathrm{GN/m}  \n\\end{aligned}\n\\]"
     },
     "metadata": {},
     "output_type": "display_data"
    }
   ],
   "source": [
    "%%render\n",
    "M_r = phi * Z_x * F_y"
   ],
   "metadata": {
    "collapsed": false
   }
  },
  {
   "cell_type": "code",
   "execution_count": null,
   "outputs": [],
   "source": [],
   "metadata": {
    "collapsed": false
   }
  }
 ],
 "metadata": {
  "kernelspec": {
   "display_name": "Python 3",
   "language": "python",
   "name": "python3"
  },
  "language_info": {
   "codemirror_mode": {
    "name": "ipython",
    "version": 2
   },
   "file_extension": ".py",
   "mimetype": "text/x-python",
   "name": "python",
   "nbconvert_exporter": "python",
   "pygments_lexer": "ipython2",
   "version": "2.7.6"
  }
 },
 "nbformat": 4,
 "nbformat_minor": 0
}

{
 "cells": [
  {
   "cell_type": "markdown",
   "source": [
    "# 傾向スコアを用いた逆確率重み付け法（IPTW）の実装"
   ],
   "metadata": {
    "collapsed": false
   }
  },
  {
   "cell_type": "code",
   "execution_count": 1,
   "outputs": [],
   "source": [
    "import handcalcs.render"
   ],
   "metadata": {
    "collapsed": false
   }
  },
  {
   "cell_type": "code",
   "execution_count": 2,
   "outputs": [],
   "source": [
    "# 乱数のシードを設定\n",
    "import random\n",
    "import numpy as np\n",
    "\n",
    "np.random.seed(1234)\n",
    "random.seed(1234)"
   ],
   "metadata": {
    "collapsed": false
   }
  },
  {
   "cell_type": "code",
   "execution_count": 3,
   "outputs": [],
   "source": [
    "# 使用するパッケージ（ライブラリと関数）を定義\n",
    "# 標準正規分布の生成用\n",
    "from numpy.random import *\n",
    "\n",
    "# グラフの描画用\n",
    "import matplotlib.pyplot as plt\n",
    "\n",
    "# SciPy 平均0、分散1に正規化（標準化）関数\n",
    "import scipy.stats\n",
    "\n",
    "# シグモイド関数をimport\n",
    "from scipy.special import expit\n",
    "\n",
    "# scikit-learnから線形回帰をimport\n",
    "from sklearn.linear_model import LinearRegression\n",
    "\n",
    "# その他\n",
    "import pandas as pd"
   ],
   "metadata": {
    "collapsed": false
   }
  },
  {
   "cell_type": "markdown",
   "source": [
    "# データの作成"
   ],
   "metadata": {
    "collapsed": false
   }
  },
  {
   "cell_type": "code",
   "execution_count": 4,
   "outputs": [
    {
     "data": {
      "text/plain": "<IPython.core.display.Latex object>",
      "text/latex": "\\[\n\\begin{aligned}\n\\mathrm{num}_{data} &= 200 \\; \n\\\\[10pt]\nx_{1} &= \\operatorname{randint} { \\left( 15 ,\\  76 ,\\  \\mathrm{num}_{data} \\right) } \\; \n\\\\[10pt]\nx_{2} &= \\operatorname{randint} { \\left( 0 ,\\  2 ,\\  \\mathrm{num}_{data} \\right) } \\; \n\\end{aligned}\n\\]"
     },
     "metadata": {},
     "output_type": "display_data"
    }
   ],
   "source": [
    "%%render symbolic\n",
    "# データ数\n",
    "num_data = 200\n",
    "# 年齢:15から75歳の一様乱数\n",
    "x_1 = randint(15, 76, num_data)\n",
    "# 性別（0を女性、1を男性とします）:0か1の乱数\n",
    "x_2 = randint(0, 2, num_data)"
   ],
   "metadata": {
    "collapsed": false
   }
  },
  {
   "cell_type": "markdown",
   "source": [
    "# テレビCMを見たかどうか"
   ],
   "metadata": {
    "collapsed": false
   }
  },
  {
   "cell_type": "code",
   "execution_count": 5,
   "outputs": [
    {
     "data": {
      "text/plain": "<IPython.core.display.Latex object>",
      "text/latex": "\\[\n\\begin{aligned}\ne_{z} &= \\operatorname{randn} { \\left( \\mathrm{num}_{data} \\right) } \\; \n\\\\[10pt]\nz_{base} &= x_{1} + \\left( 1 - x_{2} \\right) \\cdot 10 - 40 + 5 \\cdot e_{z} \\; \n\\\\[10pt]\nz_{prob} &= \\operatorname{expit} { \\left( 0.1 \\cdot z_{base} \\right) } \\; \n\\\\[10pt]\nZ &= \\mathrm{np.array} \\; \n\\\\[10pt]\n\\mathrm{for} \\; \n\\\\[10pt]\nZ_{i} &= \\mathrm{np.random.choice} \\; \n\\\\[10pt]\nZ &= \\mathrm{np.append} { \\left( Z ,\\  Z_{i} \\right) } \\; \n\\end{aligned}\n\\]"
     },
     "metadata": {},
     "output_type": "display_data"
    }
   ],
   "source": [
    "%%render symbolic\n",
    "# ノイズの生成\n",
    "e_z = randn(num_data)\n",
    "\n",
    "# シグモイド関数に入れる部分\n",
    "z_base = x_1 + (1-x_2)*10 - 40 + 5*e_z\n",
    "\n",
    "# シグモイド関数を計算\n",
    "z_prob = expit(0.1*z_base)\n",
    "\n",
    "# テレビCMを見たかどうかの変数（0は見ていない、1は見た）\n",
    "Z = np.array([])\n",
    "\n",
    "for i in range(num_data):\n",
    "    Z_i = np.random.choice(2, size=1, p=[1-z_prob[i], z_prob[i]])[0]\n",
    "    Z = np.append(Z, Z_i)"
   ],
   "metadata": {
    "collapsed": false
   }
  },
  {
   "cell_type": "markdown",
   "source": [
    "# 購入量Yを作成"
   ],
   "metadata": {
    "collapsed": false
   }
  },
  {
   "cell_type": "code",
   "execution_count": 6,
   "outputs": [
    {
     "data": {
      "text/plain": "<IPython.core.display.Latex object>",
      "text/latex": "\\[\n\\begin{aligned}\ne_{y} &= \\operatorname{randn} { \\left( \\mathrm{num}_{data} \\right) } \\; \n\\\\[10pt]\nY &= \\left( - x_{1} \\right) + 30 \\cdot x_{2} + 10 \\cdot Z + 80 + 10 \\cdot e_{y} \\; \n\\end{aligned}\n\\]"
     },
     "metadata": {},
     "output_type": "display_data"
    }
   ],
   "source": [
    "%%render symbolic\n",
    "# ノイズの生成\n",
    "e_y = randn(num_data)\n",
    "Y = -x_1 + 30*x_2 + 10*Z + 80 + 10*e_y"
   ],
   "metadata": {
    "collapsed": false
   }
  },
  {
   "cell_type": "markdown",
   "source": [
    "# データをまとめた表を作成し、平均値を比べる"
   ],
   "metadata": {
    "collapsed": false
   }
  },
  {
   "cell_type": "code",
   "execution_count": 7,
   "outputs": [
    {
     "data": {
      "text/plain": "   年齢  性別  CMを見た         購入量\n0  62   0    1.0   24.464285\n1  34   0    0.0   45.693411\n2  53   1    1.0   64.998281\n3  68   1    1.0   47.186898\n4  27   1    0.0  100.114260",
      "text/html": "<div>\n<style scoped>\n    .dataframe tbody tr th:only-of-type {\n        vertical-align: middle;\n    }\n\n    .dataframe tbody tr th {\n        vertical-align: top;\n    }\n\n    .dataframe thead th {\n        text-align: right;\n    }\n</style>\n<table border=\"1\" class=\"dataframe\">\n  <thead>\n    <tr style=\"text-align: right;\">\n      <th></th>\n      <th>年齢</th>\n      <th>性別</th>\n      <th>CMを見た</th>\n      <th>購入量</th>\n    </tr>\n  </thead>\n  <tbody>\n    <tr>\n      <th>0</th>\n      <td>62</td>\n      <td>0</td>\n      <td>1.0</td>\n      <td>24.464285</td>\n    </tr>\n    <tr>\n      <th>1</th>\n      <td>34</td>\n      <td>0</td>\n      <td>0.0</td>\n      <td>45.693411</td>\n    </tr>\n    <tr>\n      <th>2</th>\n      <td>53</td>\n      <td>1</td>\n      <td>1.0</td>\n      <td>64.998281</td>\n    </tr>\n    <tr>\n      <th>3</th>\n      <td>68</td>\n      <td>1</td>\n      <td>1.0</td>\n      <td>47.186898</td>\n    </tr>\n    <tr>\n      <th>4</th>\n      <td>27</td>\n      <td>1</td>\n      <td>0.0</td>\n      <td>100.114260</td>\n    </tr>\n  </tbody>\n</table>\n</div>"
     },
     "execution_count": 7,
     "metadata": {},
     "output_type": "execute_result"
    }
   ],
   "source": [
    "df = pd.DataFrame({'年齢': x_1,\n",
    "                   '性別': x_2,\n",
    "                   'CMを見た': Z,\n",
    "                   '購入量': Y,\n",
    "                   })\n",
    "\n",
    "df.head()  # 先頭を表示"
   ],
   "metadata": {
    "collapsed": false
   }
  },
  {
   "cell_type": "code",
   "execution_count": 8,
   "outputs": [
    {
     "name": "stdout",
     "output_type": "stream",
     "text": [
      "年齢       55.836066\n",
      "性別        0.483607\n",
      "CMを見た     1.000000\n",
      "購入量      49.711478\n",
      "dtype: float64\n",
      "--------\n",
      "年齢       32.141026\n",
      "性別        0.692308\n",
      "CMを見た     0.000000\n",
      "購入量      68.827143\n",
      "dtype: float64\n"
     ]
    }
   ],
   "source": [
    "# 平均値を比べる\n",
    "\n",
    "print(df[df[\"CMを見た\"] == 1.0].mean())\n",
    "print(\"--------\")\n",
    "print(df[df[\"CMを見た\"] == 0.0].mean())"
   ],
   "metadata": {
    "collapsed": false
   }
  },
  {
   "cell_type": "markdown",
   "source": [
    "# 回帰分析を実施"
   ],
   "metadata": {
    "collapsed": false
   }
  },
  {
   "cell_type": "code",
   "execution_count": 9,
   "outputs": [],
   "source": [
    "# 説明変数\n",
    "X = df[[\"年齢\", \"性別\", \"CMを見た\"]]\n",
    "\n",
    "# 被説明変数（目的変数）\n",
    "y = df[\"購入量\"]\n",
    "\n",
    "# 回帰の実施\n",
    "reg2 = LinearRegression().fit(X, y)\n",
    "\n",
    "# Z=0の場合\n",
    "X_0 = X.copy()\n",
    "X_0[\"CMを見た\"] = 0\n",
    "Y_0 = reg2.predict(X_0)\n",
    "\n",
    "# Z=1の場合\n",
    "X_1 = X.copy()\n",
    "X_1[\"CMを見た\"] = 1\n",
    "Y_1 = reg2.predict(X_1)"
   ],
   "metadata": {
    "collapsed": false
   }
  },
  {
   "cell_type": "markdown",
   "source": [
    "# 傾向スコアの推定"
   ],
   "metadata": {
    "collapsed": false
   }
  },
  {
   "cell_type": "code",
   "execution_count": 10,
   "outputs": [
    {
     "ename": "NameError",
     "evalue": "name 'LogisticRegression' is not defined",
     "output_type": "error",
     "traceback": [
      "\u001B[0;31m---------------------------------------------------------------------------\u001B[0m",
      "\u001B[0;31mNameError\u001B[0m                                 Traceback (most recent call last)",
      "Cell \u001B[0;32mIn [10], line 8\u001B[0m\n\u001B[1;32m      5\u001B[0m Z \u001B[38;5;241m=\u001B[39m df[\u001B[38;5;124m\"\u001B[39m\u001B[38;5;124mCMを見た\u001B[39m\u001B[38;5;124m\"\u001B[39m]\n\u001B[1;32m      7\u001B[0m \u001B[38;5;66;03m# 回帰の実施\u001B[39;00m\n\u001B[0;32m----> 8\u001B[0m reg \u001B[38;5;241m=\u001B[39m \u001B[43mLogisticRegression\u001B[49m()\u001B[38;5;241m.\u001B[39mfit(X, Z)\n\u001B[1;32m     10\u001B[0m \u001B[38;5;66;03m# 傾向スコアを求める\u001B[39;00m\n\u001B[1;32m     11\u001B[0m Z_pre \u001B[38;5;241m=\u001B[39m reg\u001B[38;5;241m.\u001B[39mpredict_proba(X)\n",
      "\u001B[0;31mNameError\u001B[0m: name 'LogisticRegression' is not defined"
     ]
    }
   ],
   "source": [
    "# 説明変数\n",
    "X = df[[\"年齢\", \"性別\"]]\n",
    "\n",
    "# 被説明変数（目的変数）\n",
    "Z = df[\"CMを見た\"]\n",
    "\n",
    "# 回帰の実施\n",
    "reg = LogisticRegression().fit(X, Z)\n",
    "\n",
    "# 傾向スコアを求める\n",
    "Z_pre = reg.predict_proba(X)\n",
    "print(Z_pre[0:5])  # 5人ほどの結果を見てみる"
   ],
   "metadata": {
    "collapsed": false
   }
  },
  {
   "cell_type": "markdown",
   "source": [
    "# 平均処置効果ATEを求める"
   ],
   "metadata": {
    "collapsed": false
   }
  },
  {
   "cell_type": "code",
   "execution_count": null,
   "outputs": [],
   "source": [
    "%%render symbolic\n",
    "ATE_1_i = Y/Z_pre[:, 1]*Z + (1-Z/Z_pre[:, 1])*Y_1\n",
    "ATE_0_i = Y/Z_pre[:, 0]*(1-Z) + (1-(1-Z)/Z_pre[:, 0])*Y_0\n",
    "ATE = 1/len(Y)*(ATE_1_i-ATE_0_i).sum()"
   ],
   "metadata": {
    "collapsed": false
   }
  },
  {
   "cell_type": "code",
   "execution_count": null,
   "outputs": [],
   "source": [
    "print(\"推定したATE\", ATE)"
   ],
   "metadata": {
    "collapsed": false
   }
  },
  {
   "cell_type": "code",
   "execution_count": 17,
   "outputs": [
    {
     "data": {
      "text/plain": "<IPython.core.display.Latex object>",
      "text/latex": "\\[\n\\begin{aligned}\na &= 1 \\; \n\\\\[10pt]\nb &= 10 \\; \n\\\\[10pt]\nc &= 100 \\; \n\\\\[10pt]\nP &= \\frac{ a \\cdot b }{ 2 } + c  = \\frac{ 1 \\cdot 10 }{ 2 } + 100 &= 105.000  \n\\end{aligned}\n\\]"
     },
     "metadata": {},
     "output_type": "display_data"
    }
   ],
   "source": [
    "%%render\n",
    "\n",
    "a=1\n",
    "b=10\n",
    "c=100\n",
    "\n",
    "P =(a * b)/2 + c"
   ],
   "metadata": {
    "collapsed": false
   }
  },
  {
   "cell_type": "code",
   "execution_count": null,
   "outputs": [],
   "source": [],
   "metadata": {
    "collapsed": false
   }
  }
 ],
 "metadata": {
  "kernelspec": {
   "display_name": "Python 3",
   "language": "python",
   "name": "python3"
  },
  "language_info": {
   "codemirror_mode": {
    "name": "ipython",
    "version": 2
   },
   "file_extension": ".py",
   "mimetype": "text/x-python",
   "name": "python",
   "nbconvert_exporter": "python",
   "pygments_lexer": "ipython2",
   "version": "2.7.6"
  }
 },
 "nbformat": 4,
 "nbformat_minor": 0
}
